{
  "nbformat": 4,
  "nbformat_minor": 0,
  "metadata": {
    "colab": {
      "provenance": [],
      "authorship_tag": "ABX9TyMjH30RlM+dl/Do/S9rz/Rj",
      "include_colab_link": true
    },
    "kernelspec": {
      "name": "python3",
      "display_name": "Python 3"
    },
    "language_info": {
      "name": "python"
    }
  },
  "cells": [
    {
      "cell_type": "markdown",
      "metadata": {
        "id": "view-in-github",
        "colab_type": "text"
      },
      "source": [
        "<a href=\"https://colab.research.google.com/github/jonaslundjonas/PythonScripts/blob/main/Send_a_list_skript.ipynb\" target=\"_parent\"><img src=\"https://colab.research.google.com/assets/colab-badge.svg\" alt=\"Open In Colab\"/></a>"
      ]
    },
    {
      "cell_type": "code",
      "execution_count": null,
      "metadata": {
        "colab": {
          "base_uri": "https://localhost:8080/",
          "height": 560
        },
        "id": "lG0Llc9DkrqI",
        "outputId": "d4de05d3-fbca-42c1-8a3d-5fed9c9cb79c"
      },
      "outputs": [
        {
          "name": "stdout",
          "output_type": "stream",
          "text": [
            "Enter your email address (either gmail.com or a custom Google Workspace account): jonas@familylund.se\n",
            "Note: If you have two-step verification enabled, you'll need to generate an application-specific password.\n",
            "Refer to this link to generate an app-specific password: \n",
            "https://support.google.com/mail/answer/185833?hl=en\n",
            "Enter your email password or app-specific password: dwinwsbrskkuzgut\n",
            "Enter the email addresses to send the list to (comma-separated): jonaslundjonas@gmail.com\n",
            "Enter a value for the list (comma-separated, or 'x' to finish): test1\n",
            "Enter a value for the list (comma-separated, or 'x' to finish): test2\n",
            "Enter a value for the list (comma-separated, or 'x' to finish): test3,fisk4,groda5\n",
            "Enter a value for the list (comma-separated, or 'x' to finish): x\n",
            "Do you want to send the list to jonaslundjonas@gmail.com? (yes/no): yes\n"
          ]
        },
        {
          "output_type": "error",
          "ename": "KeyboardInterrupt",
          "evalue": "ignored",
          "traceback": [
            "\u001b[0;31m---------------------------------------------------------------------------\u001b[0m",
            "\u001b[0;31mKeyboardInterrupt\u001b[0m                         Traceback (most recent call last)",
            "\u001b[0;32m<ipython-input-18-1e84417a9c1d>\u001b[0m in \u001b[0;36m<cell line: 89>\u001b[0;34m()\u001b[0m\n\u001b[1;32m     88\u001b[0m \u001b[0;31m# Entry point of the script\u001b[0m\u001b[0;34m\u001b[0m\u001b[0;34m\u001b[0m\u001b[0m\n\u001b[1;32m     89\u001b[0m \u001b[0;32mif\u001b[0m \u001b[0m__name__\u001b[0m \u001b[0;34m==\u001b[0m \u001b[0;34m\"__main__\"\u001b[0m\u001b[0;34m:\u001b[0m\u001b[0;34m\u001b[0m\u001b[0;34m\u001b[0m\u001b[0m\n\u001b[0;32m---> 90\u001b[0;31m     \u001b[0mmain\u001b[0m\u001b[0;34m(\u001b[0m\u001b[0;34m)\u001b[0m\u001b[0;34m\u001b[0m\u001b[0;34m\u001b[0m\u001b[0m\n\u001b[0m",
            "\u001b[0;32m<ipython-input-18-1e84417a9c1d>\u001b[0m in \u001b[0;36mmain\u001b[0;34m(sender_email, sender_password)\u001b[0m\n\u001b[1;32m     66\u001b[0m         \u001b[0msend_email\u001b[0m\u001b[0;34m(\u001b[0m\u001b[0msender_email\u001b[0m\u001b[0;34m,\u001b[0m \u001b[0msender_password\u001b[0m\u001b[0;34m,\u001b[0m \u001b[0mrecipient_emails\u001b[0m\u001b[0;34m,\u001b[0m \u001b[0mthe_list\u001b[0m\u001b[0;34m)\u001b[0m\u001b[0;34m\u001b[0m\u001b[0;34m\u001b[0m\u001b[0m\n\u001b[1;32m     67\u001b[0m         \u001b[0;31m# Ask if the user wants to create a new list\u001b[0m\u001b[0;34m\u001b[0m\u001b[0;34m\u001b[0m\u001b[0m\n\u001b[0;32m---> 68\u001b[0;31m         \u001b[0mrestart\u001b[0m \u001b[0;34m=\u001b[0m \u001b[0minput\u001b[0m\u001b[0;34m(\u001b[0m\u001b[0;34m\"The list has been sent. Do you want to create a new list? (yes/no): \"\u001b[0m\u001b[0;34m)\u001b[0m\u001b[0;34m\u001b[0m\u001b[0;34m\u001b[0m\u001b[0m\n\u001b[0m\u001b[1;32m     69\u001b[0m         \u001b[0;32mif\u001b[0m \u001b[0mrestart\u001b[0m\u001b[0;34m.\u001b[0m\u001b[0mlower\u001b[0m\u001b[0;34m(\u001b[0m\u001b[0;34m)\u001b[0m \u001b[0;34m==\u001b[0m \u001b[0;34m'yes'\u001b[0m\u001b[0;34m:\u001b[0m\u001b[0;34m\u001b[0m\u001b[0;34m\u001b[0m\u001b[0m\n\u001b[1;32m     70\u001b[0m             \u001b[0;31m# Ask if the user wants to use the same email account\u001b[0m\u001b[0;34m\u001b[0m\u001b[0;34m\u001b[0m\u001b[0m\n",
            "\u001b[0;32m/usr/local/lib/python3.10/dist-packages/ipykernel/kernelbase.py\u001b[0m in \u001b[0;36mraw_input\u001b[0;34m(self, prompt)\u001b[0m\n\u001b[1;32m    849\u001b[0m                 \u001b[0;34m\"raw_input was called, but this frontend does not support input requests.\"\u001b[0m\u001b[0;34m\u001b[0m\u001b[0;34m\u001b[0m\u001b[0m\n\u001b[1;32m    850\u001b[0m             )\n\u001b[0;32m--> 851\u001b[0;31m         return self._input_request(str(prompt),\n\u001b[0m\u001b[1;32m    852\u001b[0m             \u001b[0mself\u001b[0m\u001b[0;34m.\u001b[0m\u001b[0m_parent_ident\u001b[0m\u001b[0;34m,\u001b[0m\u001b[0;34m\u001b[0m\u001b[0;34m\u001b[0m\u001b[0m\n\u001b[1;32m    853\u001b[0m             \u001b[0mself\u001b[0m\u001b[0;34m.\u001b[0m\u001b[0m_parent_header\u001b[0m\u001b[0;34m,\u001b[0m\u001b[0;34m\u001b[0m\u001b[0;34m\u001b[0m\u001b[0m\n",
            "\u001b[0;32m/usr/local/lib/python3.10/dist-packages/ipykernel/kernelbase.py\u001b[0m in \u001b[0;36m_input_request\u001b[0;34m(self, prompt, ident, parent, password)\u001b[0m\n\u001b[1;32m    893\u001b[0m             \u001b[0;32mexcept\u001b[0m \u001b[0mKeyboardInterrupt\u001b[0m\u001b[0;34m:\u001b[0m\u001b[0;34m\u001b[0m\u001b[0;34m\u001b[0m\u001b[0m\n\u001b[1;32m    894\u001b[0m                 \u001b[0;31m# re-raise KeyboardInterrupt, to truncate traceback\u001b[0m\u001b[0;34m\u001b[0m\u001b[0;34m\u001b[0m\u001b[0m\n\u001b[0;32m--> 895\u001b[0;31m                 \u001b[0;32mraise\u001b[0m \u001b[0mKeyboardInterrupt\u001b[0m\u001b[0;34m(\u001b[0m\u001b[0;34m\"Interrupted by user\"\u001b[0m\u001b[0;34m)\u001b[0m \u001b[0;32mfrom\u001b[0m \u001b[0;32mNone\u001b[0m\u001b[0;34m\u001b[0m\u001b[0;34m\u001b[0m\u001b[0m\n\u001b[0m\u001b[1;32m    896\u001b[0m             \u001b[0;32mexcept\u001b[0m \u001b[0mException\u001b[0m \u001b[0;32mas\u001b[0m \u001b[0me\u001b[0m\u001b[0;34m:\u001b[0m\u001b[0;34m\u001b[0m\u001b[0;34m\u001b[0m\u001b[0m\n\u001b[1;32m    897\u001b[0m                 \u001b[0mself\u001b[0m\u001b[0;34m.\u001b[0m\u001b[0mlog\u001b[0m\u001b[0;34m.\u001b[0m\u001b[0mwarning\u001b[0m\u001b[0;34m(\u001b[0m\u001b[0;34m\"Invalid Message:\"\u001b[0m\u001b[0;34m,\u001b[0m \u001b[0mexc_info\u001b[0m\u001b[0;34m=\u001b[0m\u001b[0;32mTrue\u001b[0m\u001b[0;34m)\u001b[0m\u001b[0;34m\u001b[0m\u001b[0;34m\u001b[0m\u001b[0m\n",
            "\u001b[0;31mKeyboardInterrupt\u001b[0m: Interrupted by user"
          ]
        }
      ],
      "source": [
        "# Created by Jonas Lund 2023\n",
        "\n",
        "import smtplib\n",
        "import sys\n",
        "from email.mime.text import MIMEText\n",
        "from email.mime.multipart import MIMEMultipart\n",
        "\n",
        "# Function to send the email\n",
        "def send_email(sender_email, sender_password, recipient_emails, the_list):\n",
        "    # Create a MIME object\n",
        "    msg = MIMEMultipart()\n",
        "    msg['From'] = sender_email\n",
        "    msg['To'] = \", \".join(recipient_emails)\n",
        "    msg['Subject'] = \"Your List\"\n",
        "\n",
        "    # Attach the list as the email body\n",
        "    body = \"Here is your list:\\n\" + \"\\n\".join(the_list)\n",
        "    msg.attach(MIMEText(body, 'plain', 'utf-8'))\n",
        "\n",
        "    # Connect to Gmail's SMTP server\n",
        "    server = smtplib.SMTP(\"smtp.gmail.com\", 587)\n",
        "    server.starttls()\n",
        "\n",
        "    # Login to the email account\n",
        "    try:\n",
        "        server.login(sender_email, sender_password)\n",
        "    except smtplib.SMTPAuthenticationError as e:\n",
        "        print(\"SMTP Authentication Error:\", e)\n",
        "        print(\"Exiting the program.\")\n",
        "        sys.exit()\n",
        "\n",
        "    # Send the email\n",
        "    server.sendmail(sender_email, recipient_emails, msg.as_string())\n",
        "    server.quit()\n",
        "\n",
        "# Main function\n",
        "def main(sender_email=None, sender_password=None):\n",
        "    # Prompt for sender's email and password if not provided\n",
        "    if sender_email is None or sender_password is None:\n",
        "        sender_email = input(\"Enter your email address (either gmail.com or a custom Google Workspace account): \")\n",
        "        # Note about two-step verification\n",
        "        print(\"Note: If you have two-step verification enabled, you'll need to generate an application-specific password.\")\n",
        "        print(\"Refer to this link to generate an app-specific password: \\nhttps://support.google.com/mail/answer/185833?hl=en\")\n",
        "        sender_password = input(\"Enter your email password or app-specific password: \")\n",
        "\n",
        "    # Prompt for recipient email addresses\n",
        "    recipient_emails_str = input(\"Enter the email addresses to send the list to (comma-separated): \")\n",
        "    recipient_emails = [email.strip() for email in recipient_emails_str.split(\",\")]\n",
        "\n",
        "    # Initialize an empty list to store entries\n",
        "    the_list = []\n",
        "\n",
        "    # Loop to collect list entries\n",
        "    while True:\n",
        "        entries_str = input(\"Enter a value for the list (Single value or comma-separated values for batch adding to the list, or 'x' to finish): \")\n",
        "        if entries_str == 'x':\n",
        "            break\n",
        "        elif ',' in entries_str:\n",
        "            # If input contains commas, extend the list with all values\n",
        "            the_list.extend([entry.strip() for entry in entries_str.split(\",\")])\n",
        "        else:\n",
        "            # If input is a single value, append it to the list\n",
        "            the_list.append(entries_str.strip())\n",
        "\n",
        "    # Confirm before sending the email\n",
        "    send_it = input(f\"Do you want to send the list to {recipient_emails_str}? (yes/no): \")\n",
        "    if send_it.lower() == 'yes':\n",
        "        send_email(sender_email, sender_password, recipient_emails, the_list)\n",
        "        # Ask if the user wants to create a new list\n",
        "        restart = input(\"The list has been sent. Do you want to create a new list? (yes/no): \")\n",
        "        if restart.lower() == 'yes':\n",
        "            # Ask if the user wants to use the same email account\n",
        "            same_account = input(\"Do you want to send from the same email account? (yes/no): \")\n",
        "            if same_account.lower() == 'yes':\n",
        "                main(sender_email, sender_password)\n",
        "            else:\n",
        "                main()\n",
        "        elif restart.lower() == 'no':\n",
        "            print(\"Exiting the program.\")\n",
        "            sys.exit()\n",
        "    else:\n",
        "        # Ask if the user wants to create a new list\n",
        "        restart = input(\"Do you want to create a new list? (yes/no): \")\n",
        "        if restart.lower() == 'yes':\n",
        "            main(sender_email, sender_password)\n",
        "        elif restart.lower() == 'no':\n",
        "            print(\"Exiting the program.\")\n",
        "            sys.exit()\n",
        "\n",
        "# Entry point of the script\n",
        "if __name__ == \"__main__\":\n",
        "    main()\n"
      ]
    },
    {
      "cell_type": "code",
      "source": [],
      "metadata": {
        "id": "RBPtuoGQvDuk"
      },
      "execution_count": null,
      "outputs": []
    }
  ]
}